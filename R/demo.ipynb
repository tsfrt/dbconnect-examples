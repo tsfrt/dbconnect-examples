{
 "cells": [
  {
   "cell_type": "code",
   "execution_count": null,
   "metadata": {
    "vscode": {
     "languageId": "plaintext"
    }
   },
   "outputs": [],
   "source": [
    "%r\n",
    "require(SparkR)\n",
    "\n",
    "# Read diamonds.csv dataset as SparkDataFrame\n",
    "diamonds <- read.df(\"/databricks-datasets/Rdatasets/data-001/csv/ggplot2/diamonds.csv\",\n",
    "                  source = \"com.databricks.spark.csv\", header=\"true\", inferSchema = \"true\")\n",
    "diamonds <- withColumnRenamed(diamonds, \"\", \"rowID\")\n",
    "\n",
    "# Split data into Training set and Test set\n",
    "trainingData <- sample(diamonds, FALSE, 0.7)\n",
    "testData <- except(diamonds, trainingData)\n",
    "\n",
    "# Exclude rowIDs\n",
    "trainingData <- trainingData[, -1]\n",
    "testData <- testData[, -1]\n",
    "\n",
    "print(count(diamonds))\n",
    "print(count(trainingData))\n",
    "print(count(testData))"
   ]
  }
 ],
 "metadata": {
  "language_info": {
   "name": "python"
  }
 },
 "nbformat": 4,
 "nbformat_minor": 2
}
